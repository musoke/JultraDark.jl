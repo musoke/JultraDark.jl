{
 "cells": [
  {
   "cell_type": "markdown",
   "metadata": {},
   "source": [
    "# Set up environment"
   ]
  },
  {
   "cell_type": "code",
   "execution_count": null,
   "metadata": {},
   "outputs": [],
   "source": [
    "import Pkg\n",
    "Pkg.activate(mktempdir())\n",
    "\n",
    "Pkg.add(\"CSV\")\n",
    "Pkg.add(\"Plots\")\n",
    "Pkg.add(\"NPZ\")"
   ]
  },
  {
   "cell_type": "code",
   "execution_count": null,
   "metadata": {},
   "outputs": [],
   "source": [
    "using JultraDark\n",
    "using Random: randn!\n",
    "using Test\n",
    "using NPZ\n",
    "using CSV\n",
    "using Plots"
   ]
  },
  {
   "cell_type": "code",
   "execution_count": null,
   "metadata": {},
   "outputs": [],
   "source": [
    "Threads.nthreads()"
   ]
  },
  {
   "cell_type": "markdown",
   "metadata": {},
   "source": [
    "# Define initial conditions"
   ]
  },
  {
   "cell_type": "code",
   "execution_count": null,
   "metadata": {},
   "outputs": [],
   "source": [
    "function x(k, a)\n",
    "    m = 1\n",
    "    H0 = 1\n",
    "    k^2 / (m * H0 * a^0.5)\n",
    "end\n",
    "\n",
    "function δ_g(x)\n",
    "    if x == 0\n",
    "        0\n",
    "    else\n",
    "        -(3/x^2 - 1) * cos(x) - 3/x * sin(x)\n",
    "    end\n",
    "end\n",
    "\n",
    "function S_g(x)\n",
    "    if x == 0\n",
    "        0\n",
    "    else\n",
    "        (6/x^3 + 3/x) * cos(x) + (6/x^2 - 1) * sin(x)\n",
    "    end\n",
    "end\n",
    "\n",
    "function a(t)\n",
    "    t^(2/3)\n",
    "end"
   ]
  },
  {
   "cell_type": "code",
   "execution_count": null,
   "metadata": {},
   "outputs": [],
   "source": [
    "resol = 64\n",
    "box_length = 1."
   ]
  },
  {
   "cell_type": "code",
   "execution_count": null,
   "metadata": {
    "scrolled": true
   },
   "outputs": [],
   "source": [
    "# Define initial conditions\n",
    "grids = JultraDark.Grids(box_length, resol)\n",
    "\n",
    "t_init = 300\n",
    "t_final = 500\n",
    "\n",
    "A_k = similar(grids.ρk)\n",
    "randn!(A_k)\n",
    "A_k *= 10\n",
    "\n",
    "# Density perturbation\n",
    "δ_k = similar(grids.ρk)\n",
    "δ_k .= A_k .* δ_g.(x.(grids.rk, a(t_init)))\n",
    "δ_k[1, 1, 1] = 0\n",
    "\n",
    "# Phase perturbation\n",
    "S_k = similar(grids.ρk)\n",
    "S_k .= A_k .* S_g.(x.(grids.rk, a(t_init)))\n",
    "\n",
    "grids.ψx .= (1 .+ grids.rfft_plan \\ δ_k).^0.5 .* exp.(im .* (grids.rfft_plan \\ S_k));"
   ]
  },
  {
   "cell_type": "code",
   "execution_count": null,
   "metadata": {},
   "outputs": [],
   "source": [
    "output_dir = \"$(pwd())/output\"\n",
    "output_times = t_init:10:t_final\n",
    "\n",
    "output_config = OutputConfig(output_dir, output_times; box=false, rho=true, slice=true)\n",
    "\n",
    "options = Config.SimulationConfig(10, a)"
   ]
  },
  {
   "cell_type": "markdown",
   "metadata": {},
   "source": [
    "# Run simulation"
   ]
  },
  {
   "cell_type": "code",
   "execution_count": null,
   "metadata": {
    "scrolled": true
   },
   "outputs": [],
   "source": [
    "simulate(grids, options, output_config)"
   ]
  },
  {
   "cell_type": "markdown",
   "metadata": {},
   "source": [
    "# Check output"
   ]
  },
  {
   "cell_type": "code",
   "execution_count": null,
   "metadata": {},
   "outputs": [],
   "source": [
    "summary = CSV.File(\"$(output_config.directory)/summary.csv\");"
   ]
  },
  {
   "cell_type": "code",
   "execution_count": null,
   "metadata": {},
   "outputs": [],
   "source": [
    "plot(\n",
    "    summary.a, summary.δx_rms;\n",
    "    legend=false,\n",
    "    xlabel=raw\"$a$\",\n",
    "    ylabel=raw\"$\\mathrm{rms}(\\delta)$\",\n",
    ")"
   ]
  },
  {
   "cell_type": "code",
   "execution_count": null,
   "metadata": {},
   "outputs": [],
   "source": [
    "plot(\n",
    "    summary.t, summary.Δt,\n",
    "    legend=false,\n",
    "    xlabel=raw\"$t$\",\n",
    "    ylabel=raw\"$\\Delta t$\",\n",
    ")"
   ]
  },
  {
   "cell_type": "code",
   "execution_count": null,
   "metadata": {},
   "outputs": [],
   "source": [
    "rho_slice_init = npzread(\"$(output_config.directory)/rho_slice_1.npy\");\n",
    "rho_slice_last = npzread(\"$(output_config.directory)/rho_slice_$(length(output_times)).npy\");"
   ]
  },
  {
   "cell_type": "code",
   "execution_count": null,
   "metadata": {},
   "outputs": [],
   "source": [
    "contourf(rho_slice_init; aspectratio=:equal)"
   ]
  },
  {
   "cell_type": "code",
   "execution_count": null,
   "metadata": {},
   "outputs": [],
   "source": [
    "contourf(rho_slice_last; aspectratio=:equal)"
   ]
  },
  {
   "cell_type": "code",
   "execution_count": null,
   "metadata": {},
   "outputs": [],
   "source": []
  }
 ],
 "metadata": {
  "kernelspec": {
   "display_name": "Julia 1.5.1",
   "language": "julia",
   "name": "julia-1.5"
  },
  "language_info": {
   "file_extension": ".jl",
   "mimetype": "application/julia",
   "name": "julia",
   "version": "1.5.1"
  }
 },
 "nbformat": 4,
 "nbformat_minor": 4
}
