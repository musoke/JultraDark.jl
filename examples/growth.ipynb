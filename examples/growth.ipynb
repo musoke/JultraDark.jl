{
 "cells": [
  {
   "cell_type": "markdown",
   "metadata": {},
   "source": [
    "# Example: growth of perturbations in the early universe\n",
    "\n",
    "This example is similar to the simulations in [1909.11678](https://arxiv.org/abs/1909.11678)/[10.1103/PhysRevLett.124.061301](https://doi.org/10.1103/PhysRevLett.124.061301)."
   ]
  },
  {
   "cell_type": "markdown",
   "metadata": {},
   "source": [
    "## Set up Julia environment"
   ]
  },
  {
   "cell_type": "code",
   "execution_count": null,
   "metadata": {},
   "outputs": [],
   "source": [
    "import Pkg\n",
    "Pkg.activate(mktempdir())\n",
    "\n",
    "Pkg.add(\"CSV\")\n",
    "Pkg.add(\"Plots\")\n",
    "Pkg.add(\"NPZ\")\n",
    "Pkg.add(\"Unitful\")"
   ]
  },
  {
   "cell_type": "code",
   "execution_count": null,
   "metadata": {},
   "outputs": [],
   "source": [
    "using JultraDark\n",
    "using Random: randn!\n",
    "using Test\n",
    "using NPZ\n",
    "using CSV\n",
    "using Plots\n",
    "using Unitful"
   ]
  },
  {
   "cell_type": "code",
   "execution_count": null,
   "metadata": {},
   "outputs": [],
   "source": [
    "Threads.nthreads()"
   ]
  },
  {
   "cell_type": "markdown",
   "metadata": {},
   "source": [
    "## Units"
   ]
  },
  {
   "cell_type": "code",
   "execution_count": null,
   "metadata": {},
   "outputs": [],
   "source": [
    "mpl = uconvert(u\"kg\", sqrt(Unitful.ħ * Unitful.c / Unitful.G))\n",
    "Mpl = uconvert(u\"kg\", sqrt(Unitful.ħ * Unitful.c / 8 / π / Unitful.G))"
   ]
  },
  {
   "cell_type": "code",
   "execution_count": null,
   "metadata": {},
   "outputs": [],
   "source": [
    "tpl = uconvert(u\"s\", sqrt(Unitful.ħ * Unitful.G / Unitful.c^5))"
   ]
  },
  {
   "cell_type": "code",
   "execution_count": null,
   "metadata": {},
   "outputs": [],
   "source": [
    "lpl = uconvert(u\"m\", sqrt(Unitful.ħ * Unitful.G / Unitful.c^3))"
   ]
  },
  {
   "cell_type": "code",
   "execution_count": null,
   "metadata": {},
   "outputs": [],
   "source": [
    "m = 6.35e-6Mpl"
   ]
  },
  {
   "cell_type": "code",
   "execution_count": null,
   "metadata": {},
   "outputs": [],
   "source": [
    "hbar = Unitful.ħ\n",
    "G = Unitful.G\n",
    "Ωm = 1.0"
   ]
  },
  {
   "cell_type": "code",
   "execution_count": null,
   "metadata": {},
   "outputs": [],
   "source": [
    "H0 = sqrt(1/3)m / (tpl*mpl)"
   ]
  },
  {
   "cell_type": "code",
   "execution_count": null,
   "metadata": {},
   "outputs": [],
   "source": [
    "t_code = (3 / 8 / π * H0^2 * Ωm)^(-1/2)"
   ]
  },
  {
   "cell_type": "code",
   "execution_count": null,
   "metadata": {},
   "outputs": [],
   "source": [
    "uconvert(u\"s\", t_code)"
   ]
  },
  {
   "cell_type": "code",
   "execution_count": null,
   "metadata": {},
   "outputs": [],
   "source": [
    "l_code = (hbar / m)^(1/2) * (3 / 8 / π * H0^2 * Ωm)^(-1/4)"
   ]
  },
  {
   "cell_type": "code",
   "execution_count": null,
   "metadata": {},
   "outputs": [],
   "source": [
    "uconvert(u\"m\", l_code)"
   ]
  },
  {
   "cell_type": "code",
   "execution_count": null,
   "metadata": {},
   "outputs": [],
   "source": [
    "m_code = (hbar / m)^(3/2) * (3 / 8 / π * H0^2 * Ωm)^(+1/4) / G"
   ]
  },
  {
   "cell_type": "code",
   "execution_count": null,
   "metadata": {},
   "outputs": [],
   "source": [
    "uconvert(u\"kg\", m_code)"
   ]
  },
  {
   "cell_type": "markdown",
   "metadata": {},
   "source": [
    "## Define initial conditions"
   ]
  },
  {
   "cell_type": "code",
   "execution_count": null,
   "metadata": {},
   "outputs": [],
   "source": [
    "function x(k, a)\n",
    "    m = 1\n",
    "    H0 = 1\n",
    "    k^2 / (m * H0 * a^0.5)\n",
    "end\n",
    "\n",
    "function δ_g(x)\n",
    "    if x == 0\n",
    "        0\n",
    "    else\n",
    "        -(3/x^2 - 1) * cos(x) - 3/x * sin(x)\n",
    "    end\n",
    "end\n",
    "\n",
    "function S_g(x)\n",
    "    if x == 0\n",
    "        0\n",
    "    else\n",
    "        (6/x^3 + 3/x) * cos(x) + (6/x^2 - 1) * sin(x)\n",
    "    end\n",
    "end\n",
    "\n",
    "function propagate_to!(grids, A_k, a)\n",
    "    # Density perturbation\n",
    "    δ_k = similar(grids.ρk)\n",
    "    δ_k .= A_k .* δ_g.(x.(grids.rk, a))\n",
    "    δ_k[1, 1, 1] = 0\n",
    "\n",
    "    # Phase perturbation\n",
    "    S_k = similar(grids.ρk)\n",
    "    S_k .= A_k .* S_g.(x.(grids.rk, a))\n",
    "\n",
    "    # Field perturbation\n",
    "    grids.ψx .= (1+0im .+ grids.rfft_plan \\ δ_k).^0.5 .* exp.(im .* (grids.rfft_plan \\ S_k))\n",
    "    \n",
    "    return\n",
    "end\n",
    "\n",
    "function propagate_to(grids, A_k, a)\n",
    "    grids_new = deepcopy(grids)\n",
    "    \n",
    "    propagate_to!(grids_new, A_k, a)\n",
    "    \n",
    "    grids_new\n",
    "end"
   ]
  },
  {
   "cell_type": "code",
   "execution_count": null,
   "metadata": {},
   "outputs": [],
   "source": [
    "a_end = 1\n",
    "t_end = (2.0/(3.0 * H0))\n",
    "t_end_code_units = uconvert(Unitful.NoUnits, t_end/t_code)\n",
    "\n",
    "function a(t)\n",
    "    a_end * (t/t_end_code_units)^(2/3)\n",
    "end\n",
    "\n",
    "function t(a)\n",
    "    t_end_code_units * (a/a_end)^(3/2)\n",
    "end"
   ]
  },
  {
   "cell_type": "code",
   "execution_count": null,
   "metadata": {
    "scrolled": true
   },
   "outputs": [],
   "source": [
    "L_horizon_end = uconvert(Unitful.NoUnits, 1/(H0*tpl) * lpl / l_code)"
   ]
  },
  {
   "cell_type": "code",
   "execution_count": null,
   "metadata": {},
   "outputs": [],
   "source": [
    "resol = 64\n",
    "box_length = 20 * L_horizon_end"
   ]
  },
  {
   "cell_type": "code",
   "execution_count": null,
   "metadata": {
    "scrolled": true
   },
   "outputs": [],
   "source": [
    "# Define initial conditions\n",
    "\n",
    "a_init = 1e0\n",
    "a_final = 1e1\n",
    "\n",
    "@show t_init = t(a_init)\n",
    "@show t_final = t(a_final)\n",
    "\n",
    "grids = JultraDark.Grids(box_length, resol)\n",
    "\n",
    "A_k = similar(grids.ρk)\n",
    "randn!(A_k)\n",
    "A_k[grids.rk .> maximum(grids.rk[1, 1, :])] .= 0\n",
    "A_k *= 1e-3\n",
    "\n",
    "propagate_to!(grids, A_k, a_init)"
   ]
  },
  {
   "cell_type": "code",
   "execution_count": null,
   "metadata": {},
   "outputs": [],
   "source": [
    "output_dir = \"$(pwd())/output\"\n",
    "output_times = t_init:(t_final-t_init)/5:t_final\n",
    "output_config = OutputConfig(output_dir, output_times)\n",
    "\n",
    "options = Config.SimulationConfig(10, a)"
   ]
  },
  {
   "cell_type": "markdown",
   "metadata": {},
   "source": [
    "## Run simulation"
   ]
  },
  {
   "cell_type": "code",
   "execution_count": null,
   "metadata": {
    "scrolled": true
   },
   "outputs": [],
   "source": [
    "@time simulate(grids, options, output_config)"
   ]
  },
  {
   "cell_type": "markdown",
   "metadata": {},
   "source": [
    "## Check output"
   ]
  },
  {
   "cell_type": "code",
   "execution_count": null,
   "metadata": {},
   "outputs": [],
   "source": [
    "summary = CSV.File(\"$(output_config.directory)/summary.csv\");"
   ]
  },
  {
   "cell_type": "code",
   "execution_count": null,
   "metadata": {},
   "outputs": [],
   "source": [
    "plot(\n",
    "    summary.a, summary.δx_rms;\n",
    "    legend=false,\n",
    "    xlabel=raw\"$a$\",\n",
    "    ylabel=raw\"$\\mathrm{rms}(\\delta)$\",\n",
    "    xscale=:log10\n",
    ")"
   ]
  },
  {
   "cell_type": "code",
   "execution_count": null,
   "metadata": {},
   "outputs": [],
   "source": [
    "plot(\n",
    "    summary.t, summary.Δt,\n",
    "    legend=false,\n",
    "    xlabel=raw\"$t$\",\n",
    "    ylabel=raw\"$\\Delta t$\",\n",
    ")"
   ]
  },
  {
   "cell_type": "code",
   "execution_count": null,
   "metadata": {},
   "outputs": [],
   "source": [
    "rho_init = npzread(\"$(output_config.directory)/rho_1.npy\");\n",
    "rho_last = npzread(\"$(output_config.directory)/rho_$(length(output_times)).npy\");"
   ]
  },
  {
   "cell_type": "code",
   "execution_count": null,
   "metadata": {},
   "outputs": [],
   "source": [
    "contourf(rho_init[1, :, :] .- 1; aspectratio=:equal)\n",
    "xlims!(1, resol)"
   ]
  },
  {
   "cell_type": "code",
   "execution_count": null,
   "metadata": {},
   "outputs": [],
   "source": [
    "contourf(rho_last[1, :, :] .- 1; aspectratio=:equal)\n",
    "xlims!(1, resol)"
   ]
  },
  {
   "cell_type": "code",
   "execution_count": null,
   "metadata": {},
   "outputs": [],
   "source": [
    "grids_pert = propagate_to(grids, A_k, a_init)\n",
    "rho_last_pert = (abs.(grids_pert.ψx).^2)\n",
    "contourf(rho_last_pert[1, :, :] .- 1; aspectratio=:equal)\n",
    "xlims!(1, resol)"
   ]
  },
  {
   "cell_type": "code",
   "execution_count": null,
   "metadata": {},
   "outputs": [],
   "source": [
    "contourf(rho_last_pert[1, :, :] .- rho_last[1, :, :]; aspectratio=:equal)\n",
    "xlims!(1, resol)"
   ]
  },
  {
   "cell_type": "code",
   "execution_count": null,
   "metadata": {},
   "outputs": [],
   "source": []
  }
 ],
 "metadata": {
  "kernelspec": {
   "display_name": "Julia 1.5.1",
   "language": "julia",
   "name": "julia-1.5"
  },
  "language_info": {
   "file_extension": ".jl",
   "mimetype": "application/julia",
   "name": "julia",
   "version": "1.5.1"
  }
 },
 "nbformat": 4,
 "nbformat_minor": 4
}
